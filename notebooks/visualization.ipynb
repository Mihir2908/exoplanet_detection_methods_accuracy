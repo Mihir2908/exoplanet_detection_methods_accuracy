### Analysis 1 : Bar plots of mean standard deviation measured for each method across all orbital parameters with standard error as the error bars

params = ['pl_orbper', 'pl_orbsmax', 'pl_rade',
                  'pl_radj', 'pl_bmasse', 'pl_bmassj', 'pl_orbeccen']

for param in params:
    mean_col = f"{param}_mean_rel_std"
    se_col = f"{param}_rel_se"
    count_col = f"{param}_count"


    means = filtered_df[mean_col] # New Dataframe with Mean Relative Std Dev of all Orbital Parameters across Exoplanet Discovery Methods
    errors = filtered_df[se_col] # New Dataframe with Relative SE of all Orbital Parameters across Exoplanet Discovery Methods
    counts = filtered_df[count_col]

    means.plot(kind='bar', yerr=errors, capsize=5,
               title=f"{param}: Mean Relative Std Dev ± SE", figsize=(10,4))
    plt.ylabel("Relative Std Dev")
    plt.tight_layout()
    plt.show()

----------------------------------------------------------------------------------------------------------------------------------------------------------------------------------------------------------------------------

### Analysis 2: Bar plots of mean standard deviation measured for each method across all orbital parameters with standard error as the error bars, color coded by number of tested exoplanets for each orbital parameter 

import matplotlib.cm as cm
import matplotlib.colors as mcolors

params = ['pl_orbper', 'pl_orbsmax', 'pl_rade',
                  'pl_radj', 'pl_bmasse', 'pl_bmassj', 'pl_orbeccen']

for param in params:
    mean_col = f"{param}_mean_rel_std"
    se_col = f"{param}_rel_se"
    count_col = f"{param}_count"

    # Drop rows with missing data for the current parameter
    plot_df = filtered_df[[mean_col, se_col, count_col]]

    # Normalize count values for color mapping
    norm = mcolors.Normalize(vmin=plot_df[count_col].min(), vmax=plot_df[count_col].max())
    cmap = cm.coolwarm
    colors = [cmap(norm(val)) for val in plot_df[count_col]]

# Create bar plot
    ax = plot_df[mean_col].plot(kind='bar',
                                color=colors,
                                title=f"{param}: Mean Relative Std Dev ± SE",
                                figsize=(10, 4))
    ax.set_ylabel("Relative Std Dev")

    # Add error bars
    for bar, method in zip(ax.patches, plot_df.index):
        y = plot_df.loc[method, mean_col]
        yerr = plot_df.loc[method, se_col]
        ax.errorbar(bar.get_x() + bar.get_width()/2, y,
                    yerr=yerr, fmt='none', color='black', capsize=5)

    # Add colorbar legend for count
    sm = cm.ScalarMappable(cmap=cmap, norm=norm)
    sm.set_array([])
    cbar = plt.colorbar(sm, ax=ax)
    cbar.set_label(f'{param} Count')

    plt.tight_layout()
    plt.show()
