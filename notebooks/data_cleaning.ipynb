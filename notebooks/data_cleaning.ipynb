import pandas as pd
import numpy as np
import matplotlib.pyplot as plt
import seaborn as sns

# Importing NEA data csv from Google Drive
from google.colab import drive
drive.mount('/content/drive')
file_path = '/content/drive/MyDrive/Colab Notebooks/nasa_exoplanet_archive_data(4).csv'
df = pd.read_csv(file_path)
df.head()

# Data Filtering and Cleaning
columns_filtered = ['pl_name', 'default_flag', 'discoverymethod', 'pl_orbper', 'pl_orbsmax', 'pl_rade', 'pl_radj', 'pl_bmasse', 'pl_bmassj', 'pl_orbeccen', 'st_spectype', 'sy_dist', 'releasedate']

df_clean = df[columns_filtered]
df_clean = df_clean[df_clean['discoverymethod'].notnull()]
df_clean.shape
df_clean.head(30)
