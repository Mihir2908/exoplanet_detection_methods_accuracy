results = []
orbital_params = ['pl_orbper', 'pl_orbsmax', 'pl_rade', 'pl_radj', 'pl_bmasse', 'pl_bmassj', 'pl_orbeccen']

df_clean.columns

# Data Aggregration Represented using Functions

def compute_rel_std_data(df_calc, param):
    rel_std_data = {}
    grouped = df_calc.groupby(['pl_name', 'discoverymethod'])[param]
    for (planet, method), values in grouped:
            values = values.dropna()
            if len(values) > 1:
                std = values.std()
                mean = values.mean()
                rel_std = std / mean if mean != 0 else np.nan

                if method not in rel_std_data:
                    rel_std_data[method] = []
                rel_std_data[method].append(rel_std)
    return rel_std_data

# Main analysis block
orbital_params = ['pl_orbper', 'pl_orbsmax', 'pl_rade',
                  'pl_radj', 'pl_bmasse', 'pl_bmassj', 'pl_orbeccen']
final_results = {}

# Final dictionary to collect results
summary = {}

# Loop through each orbital parameter
for param in orbital_params:
    print(f"Processing parameter: {param}")

    # Use helper function to get rel_std_data
    rel_std_data = compute_rel_std_data(df_clean, param)

    # Now compute mean and SE of relative std per method
    param_stats = []

    for method, rel_stds in rel_std_data.items():
        rel_stds_clean = [x for x in rel_stds if not np.isnan(x)]
        count = len(rel_stds_clean)
        if count > 1:
            mean_rel_std = np.mean(rel_stds_clean)
            std_rel_std = np.std(rel_stds_clean, ddof=1)
            se_rel_std = std_rel_std / np.sqrt(count)

        elif count == 1:
            mean_rel_std = rel_stds_clean[0]
            std_rel_std = se_rel_std = 0.0

        else:
            mean_rel_std = se_rel_std = np.nan

        param_stats.append({
            'method': method,
            f'{param}_mean_rel_std': mean_rel_std,
            f'{param}_rel_se': se_rel_std,
            f'{param}_count': count
        })

    # Convert to DataFrame
    param_df = pd.DataFrame(param_stats).set_index('method')
    final_results[param] = param_df

# Merge all parameter dataframes into a single table
final_df = pd.concat(final_results.values(), axis=1)
final_df = final_df.sort_index()

# Show the table
pd.set_option('display.max_columns', None)
pd.set_option('display.width', 1000)  # Increase as needed
print(final_df)

# Mitigating cross-method inference of orbital parameters for each Exoplanet Discovery Method

### To ensure that detection methods are not conflated with multi-method inferences, we restrict valid orbital parameter interpretations to those which are either directly measured or inferred using only the assigned discovery method.
### Any parameters requiring cross-method inference — for instance, mass under Transit, or radius under RV — are flagged as invalid to uphold a single-method analysis.

# Represented using Functions

def flag_and_filter_parameters(dataframe, method_source, orbital_params, allowed_params):
    """
    Flags invalid parameter-method combinations and returns a filtered version of the input DataFrame.

    Parameters:
    - dataframe: The input DataFrame with parameter columns.
    - method_source: Either dataframe.index or a Series (e.g. dataframe["Detection Method"]) to map flags.
    - orbital_params: List of orbital parameter prefixes to check (e.g., 'pl_orbper').
    - allowed_params: Dictionary mapping methods to their valid parameters.

    Returns:
    - flag_df: DataFrame with flags per parameter ('valid' or 'cross-method inference likely').
    - filtered_df: Copy of the input dataframe with invalid entries set to NaN.
    """
    flag_df = pd.DataFrame(index=dataframe.index)

    for param in orbital_params:
        flag_df[f'{param}_flag'] = method_source.map(
            lambda method: 'valid' if param in allowed_params.get(method, []) else 'cross-method inference likely'
        )

    # Filter invalid parameter values
    filtered_df = dataframe.copy()
    for param in orbital_params:
        mask = flag_df[f'{param}_flag'] != 'valid'
        affected_cols = [col for col in dataframe.columns if col.startswith(param)]
        filtered_df.loc[mask, affected_cols] = np.nan

    return flag_df, filtered_df

allowed_params = {
    'Transit': ['pl_orbper', 'pl_orbsmax', 'pl_rade', 'pl_radj', 'pl_orbeccen'],
    'Radial Velocity': ['pl_orbper', 'pl_orbsmax', 'pl_bmasse', 'pl_bmassj', 'pl_orbeccen'],
    'Microlensing': ['pl_orbper', 'pl_orbsmax', 'pl_bmasse', 'pl_bmassj'],
    'Imaging': ['pl_orbper', 'pl_orbsmax', 'pl_rade', 'pl_radj', 'pl_bmasse', 'pl_bmassj'],
    'Transit Timing Variations': ['pl_orbper', 'pl_orbsmax', 'pl_bmasse', 'pl_bmassj', 'pl_orbeccen'],  # transit implied
    'Eclipse Timing Variations': ['pl_orbper', 'pl_orbsmax', 'pl_bmasse', 'pl_bmassj', 'pl_orbeccen'],  # conditionally valid
    'Orbital Brightness Modulation': ['pl_orbper', 'pl_orbsmax', 'pl_bmasse', 'pl_bmassj', 'pl_orbeccen'],
    'Pulsar Timing': ['pl_orbper', 'pl_orbsmax', 'pl_bmasse', 'pl_bmassj', 'pl_orbeccen']# timing only
}

flag_df, filtered_df = flag_and_filter_parameters(final_df, final_df.index, orbital_params, allowed_params)

print("\n--- ORIGINAL FINAL DF (with flagged entries) ---\n")
print(final_df)

print("\n--- FLAGGED ENTRIES ---\n")
print(flag_df)

print("\n--- FILTERED FINAL DF (only valid method-parameter combinations) ---\n")
print(filtered_df)

#list all methods of exoplanet detection
df_clean['discoverymethod'].unique()

# Number of Tested and Untested Exoplanets in our analysis based on applied constraints

df_exoplanet_conf = df[
    (df['default_flag'] == 1)]

num_exoplanet = df_exoplanet_conf['pl_name'].nunique()
count_params = ['pl_orbper_count', 'pl_orbsmax_count', 'pl_rade_count', 'pl_radj_count', 'pl_bmasse_count', 'pl_bmassj_count', 'pl_orbeccen_count']

# Sum across methods for each parameter
num_tested_df = filtered_df[count_params].sum().reset_index()

# Rename columns for clarity
num_tested_df.columns = ['parameter', 'total_planets_tested']

num_tested_df['total_planets_untested'] = num_exoplanet - num_tested_df['total_planets_tested']
print(num_tested_df)
