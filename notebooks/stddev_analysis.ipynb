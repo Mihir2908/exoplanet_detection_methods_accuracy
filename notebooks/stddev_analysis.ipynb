results = []
orbital_params = ['pl_orbper', 'pl_orbsmax', 'pl_rade', 'pl_radj', 'pl_bmasse', 'pl_bmassj', 'pl_orbeccen']
df_clean.columns

orbital_params = ['pl_orbper', 'pl_orbsmax', 'pl_rade',
                  'pl_radj', 'pl_bmasse', 'pl_bmassj', 'pl_orbeccen']
final_results = {}

# Final dictionary to collect results
summary = {}

# Loop through each orbital parameter
for param in orbital_params:
    print(f"Processing parameter: {param}")

    # Group by exoplanet and detection method
    grouped = df_clean.groupby(['pl_name', 'discoverymethod'])[param]


    # Collect relative std values per method
    rel_std_data = {}

    for (planet, method), values in grouped:
        values = values.dropna()
        if len(values) > 1: # constraining std calculation to planets with multiple orbital parameter measurements
            std = values.std() #std calculated strictly for each planet-method pair for a given parameter
            mean = values.mean() #mean calculated strictly for each planet-method pair for a given parameter
            rel_std = std / mean if mean != 0 else np.nan #rel_std calculated strictly for each planet-method pair for a given parameter
            
            if method not in rel_std_data:
                rel_std_data[method] = []
            rel_std_data[method].append(rel_std)
    
    # Now compute mean and SE of relative std per method
    param_stats = []

    for method, rel_stds in rel_std_data.items():
        rel_stds_clean = [x for x in rel_stds if not np.isnan(x)]
        count = len(rel_stds_clean)
        if count > 0:
            mean_rel_std = np.mean(rel_stds_clean) 
            std_rel_std = np.std(rel_stds_clean, ddof=1) 
            se_rel_std = std_rel_std / np.sqrt(count) 
        else:
            mean_rel_std = se_rel_std = np.nan

        param_stats.append({
            'method': method,
            f'{param}_mean_rel_std': mean_rel_std,
            f'{param}_rel_se': se_rel_std
        })

    # Convert to DataFrame
    param_df = pd.DataFrame(param_stats).set_index('method')
    final_results[param] = param_df

# Merge all parameter dataframes into a single table
final_df = pd.concat(final_results.values(), axis=1)
final_df = final_df.sort_index()

# Show the table
print(final_df)


# Optional: pivot for presentation
#pivot_df = results_df.pivot(index='Discovery Method', columns='Parameter', values=['Mean Rel Std', 'SE of Rel Std'])

# Show the final result
#pd.set_option('display.max_columns', None)
#pd.set_option('display.width', 1000)  # Increase as needed
#print(results_df)

