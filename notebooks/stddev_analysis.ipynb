results = []
orbital_params = ['pl_orbper', 'pl_orbsmax', 'pl_rade', 'pl_radj', 'pl_bmasse', 'pl_bmassj', 'pl_orbeccen']
df_clean.columns

orbital_params = ['pl_orbper', 'pl_orbsmax', 'pl_rade',
                  'pl_radj', 'pl_bmasse', 'pl_bmassj', 'pl_orbeccen']
final_results = {}

# Final dictionary to collect results
summary = {}

# Loop through each orbital parameter
for param in orbital_params:
    print(f"Processing parameter: {param}")

    # Group by exoplanet and detection method
    grouped = df_clean.groupby(['pl_name', 'discoverymethod'])[param]


    # Collect relative std values per method
    rel_std_data = {}

    for (planet, method), values in grouped: # note the use of groupby here only for (planet, method) to aggregrate multiple measurement values of select parameters for each planet-method pair
        values = values.dropna()
        if len(values) > 1: # constraining std calculation strictly to planets with multiple orbital parameter measurements
            std = values.std() #std calculated strictly for each planet-method pair for a given parameter
            mean = values.mean() #mean calculated strictly for each planet-method pair for a given parameter
            rel_std = std / mean if mean != 0 else np.nan #rel_std calculated strictly for each planet-method pair for a given parameter

            if method not in rel_std_data:
                rel_std_data[method] = []
            rel_std_data[method].append(rel_std)

    # Now compute mean and SE of relative std per method
    param_stats = []

    for method, rel_stds in rel_std_data.items():
        rel_stds_clean = [x for x in rel_stds if not np.isnan(x)]
        count = len(rel_stds_clean)
        if count > 1:
            mean_rel_std = np.mean(rel_stds_clean)
            std_rel_std = np.std(rel_stds_clean, ddof=1)
            se_rel_std = std_rel_std / np.sqrt(count)
        
        elif count == 1:
          std_rel_std = se_rel_std = 0.0
        
        else:
            mean_rel_std = se_rel_std = np.nan

        param_stats.append({
            'method': method,
            f'{param}_mean_rel_std': mean_rel_std,
            f'{param}_rel_se': se_rel_std,
            f'{param}_count': count
        })

    # Convert to DataFrame
    param_df = pd.DataFrame(param_stats).set_index('method')
    final_results[param] = param_df

# Merge all parameter dataframes into a single table
final_df = pd.concat(final_results.values(), axis=1)
final_df = final_df.sort_index()

# Show the table
pd.set_option('display.max_columns', None)
pd.set_option('display.width', 1000)  # Increase as needed
print(final_df)

#list all methods of exoplanet detection
df_clean['discoverymethod'].unique()

-------------------------------------------------------------------------------------------------

# Number of Tested and Untested Exoplanets in our analysis based on applied constraints

df_exoplanet_conf = df[
    (df['default_flag'] == 1)]

num_exoplanet = df_exoplanet_conf['pl_name'].nunique()


count_params = ['pl_orbper_count', 'pl_orbsmax_count', 'pl_rade_count', 'pl_radj_count', 'pl_bmasse_count', 'pl_bmassj_count', 'pl_orbeccen_count']

#num_tested = {}


# Sum across methods for each parameter
num_tested_df = final_df[count_params].sum().reset_index()

# Rename columns for clarity
num_tested_df.columns = ['parameter', 'total_planets_tested']

num_tested_df['total_planets_untested'] = num_exoplanet - num_tested_df['total_planets_tested']

print(num_tested_df)
